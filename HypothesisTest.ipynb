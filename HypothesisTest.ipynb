{
 "cells": [
  {
   "cell_type": "code",
   "execution_count": 24,
   "metadata": {},
   "outputs": [
    {
     "data": {
      "text/html": [
       "        <script type=\"text/javascript\">\n",
       "        window.PlotlyConfig = {MathJaxConfig: 'local'};\n",
       "        if (window.MathJax) {MathJax.Hub.Config({SVG: {font: \"STIX-Web\"}});}\n",
       "        if (typeof require !== 'undefined') {\n",
       "        require.undef(\"plotly\");\n",
       "        requirejs.config({\n",
       "            paths: {\n",
       "                'plotly': ['https://cdn.plot.ly/plotly-2.2.0.min']\n",
       "            }\n",
       "        });\n",
       "        require(['plotly'], function(Plotly) {\n",
       "            window._Plotly = Plotly;\n",
       "        });\n",
       "        }\n",
       "        </script>\n",
       "        "
      ]
     },
     "metadata": {},
     "output_type": "display_data"
    },
    {
     "data": {
      "text/html": [
       "        <script type=\"text/javascript\">\n",
       "        window.PlotlyConfig = {MathJaxConfig: 'local'};\n",
       "        if (window.MathJax) {MathJax.Hub.Config({SVG: {font: \"STIX-Web\"}});}\n",
       "        if (typeof require !== 'undefined') {\n",
       "        require.undef(\"plotly\");\n",
       "        requirejs.config({\n",
       "            paths: {\n",
       "                'plotly': ['https://cdn.plot.ly/plotly-2.2.0.min']\n",
       "            }\n",
       "        });\n",
       "        require(['plotly'], function(Plotly) {\n",
       "            window._Plotly = Plotly;\n",
       "        });\n",
       "        }\n",
       "        </script>\n",
       "        "
      ]
     },
     "metadata": {},
     "output_type": "display_data"
    }
   ],
   "source": [
    "from utils import *\n",
    "\n",
    "# to connect plotly with pandas\n",
    "import altair as alt\n",
    "import cufflinks as cf  \n",
    "import plotly           # to plot interactive visualizations\n",
    "import chart_studio.plotly as py  #more charting options \n",
    "import plotly.express as px\n",
    "#import matplotlib.pyplot as plt\n",
    "%matplotlib inline\n",
    "\n",
    "\n",
    "#to run plotly offline\n",
    "from plotly.offline import download_plotlyjs, init_notebook_mode, plot, iplot   \n",
    "init_notebook_mode(connected=True)\n",
    "cf.go_offline()\n",
    "\n"
   ]
  },
  {
   "cell_type": "markdown",
   "metadata": {},
   "source": [
    "## For Hypothesis Testing and Statistical Analysis:\n",
    "- A <b>Good movie </b>is defined as having a score > 70.00 or having at least 1 Oscar Win or Oscar Nomination.\n",
    "    - this is flagged as Good == 1 in the dataframe\n",
    "- A <b>Financially successful</b> movie has Revenue = 3 * Budget\n",
    "    - this is flagged as Success  == 1\n",
    "    \n",
    "## For Bayes:    \n",
    "H0 = Good Movies are financially successful.<br>\n",
    "HA = Good Movies are not financially successful.\n",
    "\n",
    "\n"
   ]
  },
  {
   "cell_type": "markdown",
   "metadata": {},
   "source": [
    "\n"
   ]
  },
  {
   "cell_type": "code",
   "execution_count": null,
   "metadata": {},
   "outputs": [],
   "source": []
  },
  {
   "cell_type": "code",
   "execution_count": 25,
   "metadata": {},
   "outputs": [],
   "source": [
    "bayes_df = pd.read_csv('data/movie_aggregate.csv')"
   ]
  },
  {
   "cell_type": "markdown",
   "metadata": {},
   "source": [
    "## Setting up data for Hypothesis Test"
   ]
  },
  {
   "cell_type": "markdown",
   "metadata": {},
   "source": [
    "### Hypothesis \n",
    "\n",
    "<b>H<sub>0</sub> : </b>Good movies are likely to have a high probability of financial success in the box office.<br>\n",
    "<b>H<sub>A</sub> : </b>Good movies are likely to have a normal probability of financial success in the box office."
   ]
  },
  {
   "cell_type": "code",
   "execution_count": null,
   "metadata": {},
   "outputs": [],
   "source": []
  },
  {
   "cell_type": "code",
   "execution_count": 50,
   "metadata": {},
   "outputs": [],
   "source": [
    "# Prep data for test - Using Critics_Choice \n",
    "df_good_c = bayes_df[bayes_df['Critics_Choice']==1] #Movies with Critics Score>= 7.5 \n",
    "df_bad_c = bayes_df[bayes_df['Critics_Choice']==0]  #Movies with Critics Score < 7.5 \n",
    "\n",
    "data1 = df_good_c.sample(n=300)['Profitable']\n",
    "data2 = df_bad_c.sample(n=300)['Profitable']"
   ]
  },
  {
   "cell_type": "code",
   "execution_count": 51,
   "metadata": {},
   "outputs": [],
   "source": [
    "# Prep data for test - Using Users_Pick\n",
    "df_good_u = bayes_df[bayes_df['Users_Pick']==1] # Movies with User Score>= 7.5 \n",
    "df_bad_u = bayes_df[bayes_df['Users_Pick']==0]  # Movies with User Score < 7.5 \n",
    "\n",
    "data3 = df_good_u.sample(n=300)['Profitable']\n",
    "data4 = df_bad_u.sample(n=300)['Profitable']"
   ]
  },
  {
   "cell_type": "code",
   "execution_count": 52,
   "metadata": {},
   "outputs": [],
   "source": [
    "# Reverse - Testing if Profitable movies are good  - Critics\n",
    "\n",
    "df_success1 = bayes_df[bayes_df['Profitable']==1] #   movies with ROI > 3xBudget\n",
    "df_nsuccess1 = bayes_df[bayes_df['Profitable']==0] #  movies with ROI > 3xBudget\n",
    "\n",
    "data5 = df_success1.sample(n=300)['Critics_Choice']\n",
    "data6 = df_nsuccess1.sample(n=90)['Critics_Choice']"
   ]
  },
  {
   "cell_type": "code",
   "execution_count": null,
   "metadata": {},
   "outputs": [],
   "source": []
  },
  {
   "cell_type": "code",
   "execution_count": 53,
   "metadata": {},
   "outputs": [],
   "source": [
    "# Reverse - Testing if Profitable movies are good - Users\n",
    "\n",
    "df_success2 = bayes_df[bayes_df['Profitable']==1] #   movies with ROI > 3xBudget\n",
    "df_nsuccess2 = bayes_df[bayes_df['Profitable']==0] #  movies with ROI > 3xBudget\n",
    "\n",
    "data7 = df_success2.sample(n=300)['Users_Pick']\n",
    "data8 = df_nsuccess2.sample(n=90)['Users_Pick']"
   ]
  },
  {
   "cell_type": "code",
   "execution_count": null,
   "metadata": {},
   "outputs": [],
   "source": []
  },
  {
   "cell_type": "markdown",
   "metadata": {},
   "source": [
    "## Perform a Mann-Whitney U Test"
   ]
  },
  {
   "cell_type": "code",
   "execution_count": 49,
   "metadata": {},
   "outputs": [
    {
     "name": "stdout",
     "output_type": "stream",
     "text": [
      "Mann-Whitney U Test Results:\n",
      "p-value is 0.2801701326815441, which is greater than 0.05, therefore we reject the null hypothesis\n"
     ]
    }
   ],
   "source": [
    "\n",
    "def MannWhitneyU(d1,d2):\n",
    "    m_results = stats.mannwhitneyu(data1, data2, alternative = 'two-sided')\n",
    "    print(\"Mann-Whitney U Test Results:\")\n",
    "    if m_results[1] > 0.05:\n",
    "        print(f'p-value is {m_results[1]}, which is greater than 0.05, therefore we reject the null hypothesis')\n",
    "    else:\n",
    "        print(f'p-value is {m_results[1]}, which is less than 0.05, therefore we do not reject the null hypothesis ')\n",
    "    #p-value>0.05 fail to reject null hypothesis\n",
    "\n",
    "MannWhitneyU(data1,data2)"
   ]
  },
  {
   "cell_type": "code",
   "execution_count": 43,
   "metadata": {},
   "outputs": [
    {
     "data": {
      "application/vnd.plotly.v1+json": {
       "config": {
        "plotlyServerURL": "https://plotly.com"
       },
       "data": [
        {
         "name": "Rating Score < 7.5",
         "type": "scatter",
         "x": [
          0.9280592934843096,
          0.9288782355508978,
          0.9296971776174859,
          0.9305161196840742,
          0.9313350617506624,
          0.9321540038172506,
          0.9329729458838387,
          0.9337918879504269,
          0.9346108300170152,
          0.9354297720836033,
          0.9362487141501915,
          0.9370676562167797,
          0.9378865982833678,
          0.9387055403499561,
          0.9395244824165443,
          0.9403434244831325,
          0.9411623665497206,
          0.9419813086163088,
          0.9428002506828971,
          0.9436191927494852,
          0.9444381348160734,
          0.9452570768826616,
          0.9460760189492498,
          0.946894961015838,
          0.9477139030824262,
          0.9485328451490144,
          0.9493517872156025,
          0.9501707292821907,
          0.950989671348779,
          0.9518086134153672,
          0.9526275554819553,
          0.9534464975485435,
          0.9542654396151317,
          0.9550843816817199,
          0.9559033237483081,
          0.9567222658148963,
          0.9575412078814844,
          0.9583601499480726,
          0.9591790920146609,
          0.9599980340812491,
          0.9608169761478372,
          0.9616359182144254,
          0.9624548602810137,
          0.9632738023476018,
          0.96409274441419,
          0.9649116864807782,
          0.9657306285473664,
          0.9665495706139546,
          0.9673685126805428,
          0.968187454747131,
          0.9690063968137191,
          0.9698253388803073,
          0.9706442809468956,
          0.9714632230134838,
          0.9722821650800719,
          0.9731011071466601,
          0.9739200492132483,
          0.9747389912798365,
          0.9755579333464247,
          0.9763768754130129,
          0.977195817479601,
          0.9780147595461892,
          0.9788337016127775,
          0.9796526436793657,
          0.9804715857459538,
          0.981290527812542,
          0.9821094698791302,
          0.9829284119457184,
          0.9837473540123066,
          0.9845662960788948,
          0.985385238145483,
          0.9862041802120711,
          0.9870231222786594,
          0.9878420643452476,
          0.9886610064118357,
          0.9894799484784239,
          0.9902988905450121,
          0.9911178326116004,
          0.9919367746781885,
          0.9927557167447767,
          0.9935746588113649,
          0.994393600877953,
          0.9952125429445413,
          0.9960314850111295,
          0.9968504270777176,
          0.9976693691443058,
          0.998488311210894,
          0.9993072532774823,
          1.0001261953440703,
          1.0009451374106586,
          1.0017640794772469,
          1.002583021543835,
          1.0034019636104232,
          1.0042209056770113,
          1.0050398477435996,
          1.0058587898101878,
          1.006677731876776,
          1.0074966739433642,
          1.0083156160099522,
          1.0091345580765405
         ],
         "xaxis": "x",
         "y": [
          0.038131708861950324,
          0.050974237575664466,
          0.06771929931976904,
          0.08940697886454382,
          0.1173080001193594,
          0.15296113195931757,
          0.1982128443462187,
          0.2552582252840294,
          0.32668180317328954,
          0.4154965190109921,
          0.5251786737959636,
          0.6596962594117396,
          0.8235276929978402,
          1.0216676476637303,
          1.2596164431014918,
          1.5433493678291708,
          1.8792623906480188,
          2.274091020318261,
          2.734799621600413,
          3.268439315319804,
          3.881973689264188,
          4.582072917774309,
          5.374878503056234,
          6.265742660644262,
          7.258948302437338,
          8.357417528957935,
          9.562418414820668,
          10.873281531022895,
          12.287138960965839,
          13.798699402390465,
          15.400073184740483,
          17.08066057309583,
          18.82711551040273,
          20.623394945229293,
          22.450901126995184,
          24.288720801137693,
          26.113961232218582,
          27.902178601847687,
          29.62788978993022,
          31.265154101054552,
          32.78820740612339,
          34.17212769289361,
          35.39350839685242,
          36.43111431519482,
          37.26649453534406,
          37.88452771067411,
          38.27387718828349,
          38.42733685553942,
          38.34205296572989,
          38.01961240274129,
          37.46599357068614,
          36.691382031880615,
          35.70985883624631,
          34.53897486579713,
          33.199229167676,
          31.713472925439117,
          30.10626324243989,
          28.403192179491437,
          26.630216477139545,
          24.813012154732338,
          22.976375839326938,
          21.143691422315577,
          19.33647669990503,
          17.574020281312997,
          15.873114510043278,
          14.247885693565548,
          12.70971880436089,
          11.267270191661634,
          9.926558872120419,
          8.691124740863577,
          7.562240600906737,
          6.539164237919898,
          5.619416814459059,
          4.799074533530916,
          4.073061711077323,
          3.4354349712857,
          2.8796501035301745,
          2.398805065675516,
          1.9858545677843364,
          1.6337935228424467,
          1.3358083279208344,
          1.0853963838277232,
          0.8764554398292772,
          0.7033452492297158,
          0.560924646262355,
          0.44456752406611805,
          0.3501613373336628,
          0.27409170814050515,
          0.21321651936090413,
          0.16483257699052997,
          0.12663754839429894,
          0.09668947166303653,
          0.07336571034860923,
          0.05532282050721728,
          0.04145842001603633,
          0.030875814820050963,
          0.02285184948803584,
          0.016808212469370646,
          0.012286238752467288,
          0.008925110847665878
         ],
         "yaxis": "y"
        },
        {
         "name": "Rating Score > 7.5",
         "type": "scatter",
         "x": [
          0.9280592934843096,
          0.9288782355508978,
          0.9296971776174859,
          0.9305161196840742,
          0.9313350617506624,
          0.9321540038172506,
          0.9329729458838387,
          0.9337918879504269,
          0.9346108300170152,
          0.9354297720836033,
          0.9362487141501915,
          0.9370676562167797,
          0.9378865982833678,
          0.9387055403499561,
          0.9395244824165443,
          0.9403434244831325,
          0.9411623665497206,
          0.9419813086163088,
          0.9428002506828971,
          0.9436191927494852,
          0.9444381348160734,
          0.9452570768826616,
          0.9460760189492498,
          0.946894961015838,
          0.9477139030824262,
          0.9485328451490144,
          0.9493517872156025,
          0.9501707292821907,
          0.950989671348779,
          0.9518086134153672,
          0.9526275554819553,
          0.9534464975485435,
          0.9542654396151317,
          0.9550843816817199,
          0.9559033237483081,
          0.9567222658148963,
          0.9575412078814844,
          0.9583601499480726,
          0.9591790920146609,
          0.9599980340812491,
          0.9608169761478372,
          0.9616359182144254,
          0.9624548602810137,
          0.9632738023476018,
          0.96409274441419,
          0.9649116864807782,
          0.9657306285473664,
          0.9665495706139546,
          0.9673685126805428,
          0.968187454747131,
          0.9690063968137191,
          0.9698253388803073,
          0.9706442809468956,
          0.9714632230134838,
          0.9722821650800719,
          0.9731011071466601,
          0.9739200492132483,
          0.9747389912798365,
          0.9755579333464247,
          0.9763768754130129,
          0.977195817479601,
          0.9780147595461892,
          0.9788337016127775,
          0.9796526436793657,
          0.9804715857459538,
          0.981290527812542,
          0.9821094698791302,
          0.9829284119457184,
          0.9837473540123066,
          0.9845662960788948,
          0.985385238145483,
          0.9862041802120711,
          0.9870231222786594,
          0.9878420643452476,
          0.9886610064118357,
          0.9894799484784239,
          0.9902988905450121,
          0.9911178326116004,
          0.9919367746781885,
          0.9927557167447767,
          0.9935746588113649,
          0.994393600877953,
          0.9952125429445413,
          0.9960314850111295,
          0.9968504270777176,
          0.9976693691443058,
          0.998488311210894,
          0.9993072532774823,
          1.0001261953440703,
          1.0009451374106586,
          1.0017640794772469,
          1.002583021543835,
          1.0034019636104232,
          1.0042209056770113,
          1.0050398477435996,
          1.0058587898101878,
          1.006677731876776,
          1.0074966739433642,
          1.0083156160099522,
          1.0091345580765405
         ],
         "xaxis": "x",
         "y": [
          8.481342149135085e-06,
          1.4235644060087304e-05,
          2.3684712371251095e-05,
          3.9060479178736805e-05,
          6.385361301040166e-05,
          0.00010346937894677119,
          0.00016619450724424318,
          0.0002646061582352672,
          0.00041760115001277025,
          0.0006532837897014499,
          0.0010130258677002557,
          0.0015571040917215636,
          0.0023724289447231593,
          0.003583003557801689,
          0.005363888261241705,
          0.007959589351693481,
          0.011707928454880634,
          0.01707056575350743,
          0.024671424564539197,
          0.03534426841025624,
          0.05019058106775408,
          0.0706486565903352,
          0.09857437898728157,
          0.1363335202822697,
          0.1869044774061348,
          0.25398918184042935,
          0.34212845037258105,
          0.4568163283764316,
          0.6046060725087485,
          0.7931984339877459,
          1.0315009891517046,
          1.3296456185151173,
          1.6989500955098675,
          2.1518093733374277,
          2.701502819363719,
          3.361905584812065,
          4.147095700623555,
          5.070853453676859,
          6.146056089343577,
          7.38397871822121,
          8.793521113081145,
          10.380389324490055,
          12.146270016712583,
          14.088043303580504,
          16.197085760348678,
          18.45871833503939,
          20.851853327477013,
          23.348889902761314,
          25.91589851589457,
          28.51312127510433,
          31.09579820452467,
          33.615309535934834,
          36.020602884541745,
          38.259853041598966,
          40.2822828881018,
          42.04005832513044,
          43.49015966661256,
          44.59612783479497,
          45.32958662965154,
          45.67145241358651,
          45.612759237390435,
          45.1550496068702,
          44.31030711623527,
          43.10043505522377,
          41.55631265686676,
          39.71648574708559,
          37.625569275293195,
          35.332454047337905,
          32.8884179918641,
          30.34524312734339,
          27.753433341416823,
          25.160615995219697,
          22.610193527882657,
          20.14029127193064,
          17.783026347058435,
          15.564101492061136,
          13.502708550037887,
          11.611710261009906,
          9.898056874508278,
          8.36338629159557,
          7.004752996221878,
          5.815431600927328,
          4.785744796933542,
          3.9038720664682898,
          3.1566038036866004,
          2.530014623345723,
          2.010038818011205,
          1.5829394956633407,
          1.2356703993580318,
          0.9561354676759531,
          0.7333556989910857,
          0.5575558429110887,
          0.4201849846746118,
          0.31388542034506023,
          0.23242359579851873,
          0.17059556846434423,
          0.12411770375302109,
          0.08951136430915399,
          0.06398837454934501,
          0.045342184237638854
         ],
         "yaxis": "y2"
        }
       ],
       "layout": {
        "height": 500,
        "template": {
         "data": {
          "bar": [
           {
            "error_x": {
             "color": "#2a3f5f"
            },
            "error_y": {
             "color": "#2a3f5f"
            },
            "marker": {
             "line": {
              "color": "#E5ECF6",
              "width": 0.5
             },
             "pattern": {
              "fillmode": "overlay",
              "size": 10,
              "solidity": 0.2
             }
            },
            "type": "bar"
           }
          ],
          "barpolar": [
           {
            "marker": {
             "line": {
              "color": "#E5ECF6",
              "width": 0.5
             },
             "pattern": {
              "fillmode": "overlay",
              "size": 10,
              "solidity": 0.2
             }
            },
            "type": "barpolar"
           }
          ],
          "carpet": [
           {
            "aaxis": {
             "endlinecolor": "#2a3f5f",
             "gridcolor": "white",
             "linecolor": "white",
             "minorgridcolor": "white",
             "startlinecolor": "#2a3f5f"
            },
            "baxis": {
             "endlinecolor": "#2a3f5f",
             "gridcolor": "white",
             "linecolor": "white",
             "minorgridcolor": "white",
             "startlinecolor": "#2a3f5f"
            },
            "type": "carpet"
           }
          ],
          "choropleth": [
           {
            "colorbar": {
             "outlinewidth": 0,
             "ticks": ""
            },
            "type": "choropleth"
           }
          ],
          "contour": [
           {
            "colorbar": {
             "outlinewidth": 0,
             "ticks": ""
            },
            "colorscale": [
             [
              0,
              "#0d0887"
             ],
             [
              0.1111111111111111,
              "#46039f"
             ],
             [
              0.2222222222222222,
              "#7201a8"
             ],
             [
              0.3333333333333333,
              "#9c179e"
             ],
             [
              0.4444444444444444,
              "#bd3786"
             ],
             [
              0.5555555555555556,
              "#d8576b"
             ],
             [
              0.6666666666666666,
              "#ed7953"
             ],
             [
              0.7777777777777778,
              "#fb9f3a"
             ],
             [
              0.8888888888888888,
              "#fdca26"
             ],
             [
              1,
              "#f0f921"
             ]
            ],
            "type": "contour"
           }
          ],
          "contourcarpet": [
           {
            "colorbar": {
             "outlinewidth": 0,
             "ticks": ""
            },
            "type": "contourcarpet"
           }
          ],
          "heatmap": [
           {
            "colorbar": {
             "outlinewidth": 0,
             "ticks": ""
            },
            "colorscale": [
             [
              0,
              "#0d0887"
             ],
             [
              0.1111111111111111,
              "#46039f"
             ],
             [
              0.2222222222222222,
              "#7201a8"
             ],
             [
              0.3333333333333333,
              "#9c179e"
             ],
             [
              0.4444444444444444,
              "#bd3786"
             ],
             [
              0.5555555555555556,
              "#d8576b"
             ],
             [
              0.6666666666666666,
              "#ed7953"
             ],
             [
              0.7777777777777778,
              "#fb9f3a"
             ],
             [
              0.8888888888888888,
              "#fdca26"
             ],
             [
              1,
              "#f0f921"
             ]
            ],
            "type": "heatmap"
           }
          ],
          "heatmapgl": [
           {
            "colorbar": {
             "outlinewidth": 0,
             "ticks": ""
            },
            "colorscale": [
             [
              0,
              "#0d0887"
             ],
             [
              0.1111111111111111,
              "#46039f"
             ],
             [
              0.2222222222222222,
              "#7201a8"
             ],
             [
              0.3333333333333333,
              "#9c179e"
             ],
             [
              0.4444444444444444,
              "#bd3786"
             ],
             [
              0.5555555555555556,
              "#d8576b"
             ],
             [
              0.6666666666666666,
              "#ed7953"
             ],
             [
              0.7777777777777778,
              "#fb9f3a"
             ],
             [
              0.8888888888888888,
              "#fdca26"
             ],
             [
              1,
              "#f0f921"
             ]
            ],
            "type": "heatmapgl"
           }
          ],
          "histogram": [
           {
            "marker": {
             "pattern": {
              "fillmode": "overlay",
              "size": 10,
              "solidity": 0.2
             }
            },
            "type": "histogram"
           }
          ],
          "histogram2d": [
           {
            "colorbar": {
             "outlinewidth": 0,
             "ticks": ""
            },
            "colorscale": [
             [
              0,
              "#0d0887"
             ],
             [
              0.1111111111111111,
              "#46039f"
             ],
             [
              0.2222222222222222,
              "#7201a8"
             ],
             [
              0.3333333333333333,
              "#9c179e"
             ],
             [
              0.4444444444444444,
              "#bd3786"
             ],
             [
              0.5555555555555556,
              "#d8576b"
             ],
             [
              0.6666666666666666,
              "#ed7953"
             ],
             [
              0.7777777777777778,
              "#fb9f3a"
             ],
             [
              0.8888888888888888,
              "#fdca26"
             ],
             [
              1,
              "#f0f921"
             ]
            ],
            "type": "histogram2d"
           }
          ],
          "histogram2dcontour": [
           {
            "colorbar": {
             "outlinewidth": 0,
             "ticks": ""
            },
            "colorscale": [
             [
              0,
              "#0d0887"
             ],
             [
              0.1111111111111111,
              "#46039f"
             ],
             [
              0.2222222222222222,
              "#7201a8"
             ],
             [
              0.3333333333333333,
              "#9c179e"
             ],
             [
              0.4444444444444444,
              "#bd3786"
             ],
             [
              0.5555555555555556,
              "#d8576b"
             ],
             [
              0.6666666666666666,
              "#ed7953"
             ],
             [
              0.7777777777777778,
              "#fb9f3a"
             ],
             [
              0.8888888888888888,
              "#fdca26"
             ],
             [
              1,
              "#f0f921"
             ]
            ],
            "type": "histogram2dcontour"
           }
          ],
          "mesh3d": [
           {
            "colorbar": {
             "outlinewidth": 0,
             "ticks": ""
            },
            "type": "mesh3d"
           }
          ],
          "parcoords": [
           {
            "line": {
             "colorbar": {
              "outlinewidth": 0,
              "ticks": ""
             }
            },
            "type": "parcoords"
           }
          ],
          "pie": [
           {
            "automargin": true,
            "type": "pie"
           }
          ],
          "scatter": [
           {
            "marker": {
             "colorbar": {
              "outlinewidth": 0,
              "ticks": ""
             }
            },
            "type": "scatter"
           }
          ],
          "scatter3d": [
           {
            "line": {
             "colorbar": {
              "outlinewidth": 0,
              "ticks": ""
             }
            },
            "marker": {
             "colorbar": {
              "outlinewidth": 0,
              "ticks": ""
             }
            },
            "type": "scatter3d"
           }
          ],
          "scattercarpet": [
           {
            "marker": {
             "colorbar": {
              "outlinewidth": 0,
              "ticks": ""
             }
            },
            "type": "scattercarpet"
           }
          ],
          "scattergeo": [
           {
            "marker": {
             "colorbar": {
              "outlinewidth": 0,
              "ticks": ""
             }
            },
            "type": "scattergeo"
           }
          ],
          "scattergl": [
           {
            "marker": {
             "colorbar": {
              "outlinewidth": 0,
              "ticks": ""
             }
            },
            "type": "scattergl"
           }
          ],
          "scattermapbox": [
           {
            "marker": {
             "colorbar": {
              "outlinewidth": 0,
              "ticks": ""
             }
            },
            "type": "scattermapbox"
           }
          ],
          "scatterpolar": [
           {
            "marker": {
             "colorbar": {
              "outlinewidth": 0,
              "ticks": ""
             }
            },
            "type": "scatterpolar"
           }
          ],
          "scatterpolargl": [
           {
            "marker": {
             "colorbar": {
              "outlinewidth": 0,
              "ticks": ""
             }
            },
            "type": "scatterpolargl"
           }
          ],
          "scatterternary": [
           {
            "marker": {
             "colorbar": {
              "outlinewidth": 0,
              "ticks": ""
             }
            },
            "type": "scatterternary"
           }
          ],
          "surface": [
           {
            "colorbar": {
             "outlinewidth": 0,
             "ticks": ""
            },
            "colorscale": [
             [
              0,
              "#0d0887"
             ],
             [
              0.1111111111111111,
              "#46039f"
             ],
             [
              0.2222222222222222,
              "#7201a8"
             ],
             [
              0.3333333333333333,
              "#9c179e"
             ],
             [
              0.4444444444444444,
              "#bd3786"
             ],
             [
              0.5555555555555556,
              "#d8576b"
             ],
             [
              0.6666666666666666,
              "#ed7953"
             ],
             [
              0.7777777777777778,
              "#fb9f3a"
             ],
             [
              0.8888888888888888,
              "#fdca26"
             ],
             [
              1,
              "#f0f921"
             ]
            ],
            "type": "surface"
           }
          ],
          "table": [
           {
            "cells": {
             "fill": {
              "color": "#EBF0F8"
             },
             "line": {
              "color": "white"
             }
            },
            "header": {
             "fill": {
              "color": "#C8D4E3"
             },
             "line": {
              "color": "white"
             }
            },
            "type": "table"
           }
          ]
         },
         "layout": {
          "annotationdefaults": {
           "arrowcolor": "#2a3f5f",
           "arrowhead": 0,
           "arrowwidth": 1
          },
          "autotypenumbers": "strict",
          "coloraxis": {
           "colorbar": {
            "outlinewidth": 0,
            "ticks": ""
           }
          },
          "colorscale": {
           "diverging": [
            [
             0,
             "#8e0152"
            ],
            [
             0.1,
             "#c51b7d"
            ],
            [
             0.2,
             "#de77ae"
            ],
            [
             0.3,
             "#f1b6da"
            ],
            [
             0.4,
             "#fde0ef"
            ],
            [
             0.5,
             "#f7f7f7"
            ],
            [
             0.6,
             "#e6f5d0"
            ],
            [
             0.7,
             "#b8e186"
            ],
            [
             0.8,
             "#7fbc41"
            ],
            [
             0.9,
             "#4d9221"
            ],
            [
             1,
             "#276419"
            ]
           ],
           "sequential": [
            [
             0,
             "#0d0887"
            ],
            [
             0.1111111111111111,
             "#46039f"
            ],
            [
             0.2222222222222222,
             "#7201a8"
            ],
            [
             0.3333333333333333,
             "#9c179e"
            ],
            [
             0.4444444444444444,
             "#bd3786"
            ],
            [
             0.5555555555555556,
             "#d8576b"
            ],
            [
             0.6666666666666666,
             "#ed7953"
            ],
            [
             0.7777777777777778,
             "#fb9f3a"
            ],
            [
             0.8888888888888888,
             "#fdca26"
            ],
            [
             1,
             "#f0f921"
            ]
           ],
           "sequentialminus": [
            [
             0,
             "#0d0887"
            ],
            [
             0.1111111111111111,
             "#46039f"
            ],
            [
             0.2222222222222222,
             "#7201a8"
            ],
            [
             0.3333333333333333,
             "#9c179e"
            ],
            [
             0.4444444444444444,
             "#bd3786"
            ],
            [
             0.5555555555555556,
             "#d8576b"
            ],
            [
             0.6666666666666666,
             "#ed7953"
            ],
            [
             0.7777777777777778,
             "#fb9f3a"
            ],
            [
             0.8888888888888888,
             "#fdca26"
            ],
            [
             1,
             "#f0f921"
            ]
           ]
          },
          "colorway": [
           "#636efa",
           "#EF553B",
           "#00cc96",
           "#ab63fa",
           "#FFA15A",
           "#19d3f3",
           "#FF6692",
           "#B6E880",
           "#FF97FF",
           "#FECB52"
          ],
          "font": {
           "color": "#2a3f5f"
          },
          "geo": {
           "bgcolor": "white",
           "lakecolor": "white",
           "landcolor": "#E5ECF6",
           "showlakes": true,
           "showland": true,
           "subunitcolor": "white"
          },
          "hoverlabel": {
           "align": "left"
          },
          "hovermode": "closest",
          "mapbox": {
           "style": "light"
          },
          "paper_bgcolor": "white",
          "plot_bgcolor": "#E5ECF6",
          "polar": {
           "angularaxis": {
            "gridcolor": "white",
            "linecolor": "white",
            "ticks": ""
           },
           "bgcolor": "#E5ECF6",
           "radialaxis": {
            "gridcolor": "white",
            "linecolor": "white",
            "ticks": ""
           }
          },
          "scene": {
           "xaxis": {
            "backgroundcolor": "#E5ECF6",
            "gridcolor": "white",
            "gridwidth": 2,
            "linecolor": "white",
            "showbackground": true,
            "ticks": "",
            "zerolinecolor": "white"
           },
           "yaxis": {
            "backgroundcolor": "#E5ECF6",
            "gridcolor": "white",
            "gridwidth": 2,
            "linecolor": "white",
            "showbackground": true,
            "ticks": "",
            "zerolinecolor": "white"
           },
           "zaxis": {
            "backgroundcolor": "#E5ECF6",
            "gridcolor": "white",
            "gridwidth": 2,
            "linecolor": "white",
            "showbackground": true,
            "ticks": "",
            "zerolinecolor": "white"
           }
          },
          "shapedefaults": {
           "line": {
            "color": "#2a3f5f"
           }
          },
          "ternary": {
           "aaxis": {
            "gridcolor": "white",
            "linecolor": "white",
            "ticks": ""
           },
           "baxis": {
            "gridcolor": "white",
            "linecolor": "white",
            "ticks": ""
           },
           "bgcolor": "#E5ECF6",
           "caxis": {
            "gridcolor": "white",
            "linecolor": "white",
            "ticks": ""
           }
          },
          "title": {
           "x": 0.05
          },
          "xaxis": {
           "automargin": true,
           "gridcolor": "white",
           "linecolor": "white",
           "ticks": "",
           "title": {
            "standoff": 15
           },
           "zerolinecolor": "white",
           "zerolinewidth": 2
          },
          "yaxis": {
           "automargin": true,
           "gridcolor": "white",
           "linecolor": "white",
           "ticks": "",
           "title": {
            "standoff": 15
           },
           "zerolinecolor": "white",
           "zerolinewidth": 2
          }
         }
        },
        "title": {
         "text": "Good vs. Not Good Movies",
         "x": 0.5,
         "xanchor": "right",
         "y": 0.9,
         "yanchor": "top"
        },
        "width": 800,
        "xaxis": {
         "anchor": "y",
         "autorange": true,
         "domain": [
          0,
          0.94
         ],
         "range": [
          0.9280592934843096,
          1.0091345580765405
         ],
         "title": {
          "text": "Profitability "
         },
         "type": "linear"
        },
        "yaxis": {
         "anchor": "x",
         "autorange": true,
         "domain": [
          0,
          1
         ],
         "range": [
          -2.1254310971907655,
          40.561693063577856
         ],
         "title": {
          "text": "<b>Good</b> movies"
         },
         "type": "linear"
        },
        "yaxis2": {
         "anchor": "x",
         "autorange": true,
         "overlaying": "y",
         "range": [
          -2.537293959338093,
          48.20875485426675
         ],
         "side": "right",
         "title": {
          "text": "<b>Not Good</b> movies"
         },
         "type": "linear"
        }
       }
      },
      "image/png": "[encoded data removed]",
      "text/html": [
       "<div>                            <div id=\"9ce9a63a-2314-4f80-ad04-6fb3af5b898d\" class=\"plotly-graph-div\" style=\"height:500px; width:800px;\"></div>            <script type=\"text/javascript\">                require([\"plotly\"], function(Plotly) {                    window.PLOTLYENV=window.PLOTLYENV || {};                                    if (document.getElementById(\"9ce9a63a-2314-4f80-ad04-6fb3af5b898d\")) {                    Plotly.newPlot(                        \"9ce9a63a-2314-4f80-ad04-6fb3af5b898d\",                        [{\"name\":\"Rating Score < 7.5\",\"type\":\"scatter\",\"x\":[0.9280592934843096,0.9288782355508978,0.9296971776174859,0.9305161196840742,0.9313350617506624,0.9321540038172506,0.9329729458838387,0.9337918879504269,0.9346108300170152,0.9354297720836033,0.9362487141501915,0.9370676562167797,0.9378865982833678,0.9387055403499561,0.9395244824165443,0.9403434244831325,0.9411623665497206,0.9419813086163088,0.9428002506828971,0.9436191927494852,0.9444381348160734,0.9452570768826616,0.9460760189492498,0.946894961015838,0.9477139030824262,0.9485328451490144,0.9493517872156025,0.9501707292821907,0.950989671348779,0.9518086134153672,0.9526275554819553,0.9534464975485435,0.9542654396151317,0.9550843816817199,0.9559033237483081,0.9567222658148963,0.9575412078814844,0.9583601499480726,0.9591790920146609,0.9599980340812491,0.9608169761478372,0.9616359182144254,0.9624548602810137,0.9632738023476018,0.96409274441419,0.9649116864807782,0.9657306285473664,0.9665495706139546,0.9673685126805428,0.968187454747131,0.9690063968137191,0.9698253388803073,0.9706442809468956,0.9714632230134838,0.9722821650800719,0.9731011071466601,0.9739200492132483,0.9747389912798365,0.9755579333464247,0.9763768754130129,0.977195817479601,0.9780147595461892,0.9788337016127775,0.9796526436793657,0.9804715857459538,0.981290527812542,0.9821094698791302,0.9829284119457184,0.9837473540123066,0.9845662960788948,0.985385238145483,0.9862041802120711,0.9870231222786594,0.9878420643452476,0.9886610064118357,0.9894799484784239,0.9902988905450121,0.9911178326116004,0.9919367746781885,0.9927557167447767,0.9935746588113649,0.994393600877953,0.9952125429445413,0.9960314850111295,0.9968504270777176,0.9976693691443058,0.998488311210894,0.9993072532774823,1.0001261953440703,1.0009451374106586,1.0017640794772469,1.002583021543835,1.0034019636104232,1.0042209056770113,1.0050398477435996,1.0058587898101878,1.006677731876776,1.0074966739433642,1.0083156160099522,1.0091345580765405],\"xaxis\":\"x\",\"y\":[0.038131708861950324,0.050974237575664466,0.06771929931976904,0.08940697886454382,0.1173080001193594,0.15296113195931757,0.1982128443462187,0.2552582252840294,0.32668180317328954,0.4154965190109921,0.5251786737959636,0.6596962594117396,0.8235276929978402,1.0216676476637303,1.2596164431014918,1.5433493678291708,1.8792623906480188,2.274091020318261,2.734799621600413,3.268439315319804,3.881973689264188,4.582072917774309,5.374878503056234,6.265742660644262,7.258948302437338,8.357417528957935,9.562418414820668,10.873281531022895,12.287138960965839,13.798699402390465,15.400073184740483,17.08066057309583,18.82711551040273,20.623394945229293,22.450901126995184,24.288720801137693,26.113961232218582,27.902178601847687,29.62788978993022,31.265154101054552,32.78820740612339,34.17212769289361,35.39350839685242,36.43111431519482,37.26649453534406,37.88452771067411,38.27387718828349,38.42733685553942,38.34205296572989,38.01961240274129,37.46599357068614,36.691382031880615,35.70985883624631,34.53897486579713,33.199229167676,31.713472925439117,30.10626324243989,28.403192179491437,26.630216477139545,24.813012154732338,22.976375839326938,21.143691422315577,19.33647669990503,17.574020281312997,15.873114510043278,14.247885693565548,12.70971880436089,11.267270191661634,9.926558872120419,8.691124740863577,7.562240600906737,6.539164237919898,5.619416814459059,4.799074533530916,4.073061711077323,3.4354349712857,2.8796501035301745,2.398805065675516,1.9858545677843364,1.6337935228424467,1.3358083279208344,1.0853963838277232,0.8764554398292772,0.7033452492297158,0.560924646262355,0.44456752406611805,0.3501613373336628,0.27409170814050515,0.21321651936090413,0.16483257699052997,0.12663754839429894,0.09668947166303653,0.07336571034860923,0.05532282050721728,0.04145842001603633,0.030875814820050963,0.02285184948803584,0.016808212469370646,0.012286238752467288,0.008925110847665878],\"yaxis\":\"y\"},{\"name\":\"Rating Score > 7.5\",\"type\":\"scatter\",\"x\":[0.9280592934843096,0.9288782355508978,0.9296971776174859,0.9305161196840742,0.9313350617506624,0.9321540038172506,0.9329729458838387,0.9337918879504269,0.9346108300170152,0.9354297720836033,0.9362487141501915,0.9370676562167797,0.9378865982833678,0.9387055403499561,0.9395244824165443,0.9403434244831325,0.9411623665497206,0.9419813086163088,0.9428002506828971,0.9436191927494852,0.9444381348160734,0.9452570768826616,0.9460760189492498,0.946894961015838,0.9477139030824262,0.9485328451490144,0.9493517872156025,0.9501707292821907,0.950989671348779,0.9518086134153672,0.9526275554819553,0.9534464975485435,0.9542654396151317,0.9550843816817199,0.9559033237483081,0.9567222658148963,0.9575412078814844,0.9583601499480726,0.9591790920146609,0.9599980340812491,0.9608169761478372,0.9616359182144254,0.9624548602810137,0.9632738023476018,0.96409274441419,0.9649116864807782,0.9657306285473664,0.9665495706139546,0.9673685126805428,0.968187454747131,0.9690063968137191,0.9698253388803073,0.9706442809468956,0.9714632230134838,0.9722821650800719,0.9731011071466601,0.9739200492132483,0.9747389912798365,0.9755579333464247,0.9763768754130129,0.977195817479601,0.9780147595461892,0.9788337016127775,0.9796526436793657,0.9804715857459538,0.981290527812542,0.9821094698791302,0.9829284119457184,0.9837473540123066,0.9845662960788948,0.985385238145483,0.9862041802120711,0.9870231222786594,0.9878420643452476,0.9886610064118357,0.9894799484784239,0.9902988905450121,0.9911178326116004,0.9919367746781885,0.9927557167447767,0.9935746588113649,0.994393600877953,0.9952125429445413,0.9960314850111295,0.9968504270777176,0.9976693691443058,0.998488311210894,0.9993072532774823,1.0001261953440703,1.0009451374106586,1.0017640794772469,1.002583021543835,1.0034019636104232,1.0042209056770113,1.0050398477435996,1.0058587898101878,1.006677731876776,1.0074966739433642,1.0083156160099522,1.0091345580765405],\"xaxis\":\"x\",\"y\":[8.481342149135085e-06,1.4235644060087304e-05,2.3684712371251095e-05,3.9060479178736805e-05,6.385361301040166e-05,0.00010346937894677119,0.00016619450724424318,0.0002646061582352672,0.00041760115001277025,0.0006532837897014499,0.0010130258677002557,0.0015571040917215636,0.0023724289447231593,0.003583003557801689,0.005363888261241705,0.007959589351693481,0.011707928454880634,0.01707056575350743,0.024671424564539197,0.03534426841025624,0.05019058106775408,0.0706486565903352,0.09857437898728157,0.1363335202822697,0.1869044774061348,0.25398918184042935,0.34212845037258105,0.4568163283764316,0.6046060725087485,0.7931984339877459,1.0315009891517046,1.3296456185151173,1.6989500955098675,2.1518093733374277,2.701502819363719,3.361905584812065,4.147095700623555,5.070853453676859,6.146056089343577,7.38397871822121,8.793521113081145,10.380389324490055,12.146270016712583,14.088043303580504,16.197085760348678,18.45871833503939,20.851853327477013,23.348889902761314,25.91589851589457,28.51312127510433,31.09579820452467,33.615309535934834,36.020602884541745,38.259853041598966,40.2822828881018,42.04005832513044,43.49015966661256,44.59612783479497,45.32958662965154,45.67145241358651,45.612759237390435,45.1550496068702,44.31030711623527,43.10043505522377,41.55631265686676,39.71648574708559,37.625569275293195,35.332454047337905,32.8884179918641,30.34524312734339,27.753433341416823,25.160615995219697,22.610193527882657,20.14029127193064,17.783026347058435,15.564101492061136,13.502708550037887,11.611710261009906,9.898056874508278,8.36338629159557,7.004752996221878,5.815431600927328,4.785744796933542,3.9038720664682898,3.1566038036866004,2.530014623345723,2.010038818011205,1.5829394956633407,1.2356703993580318,0.9561354676759531,0.7333556989910857,0.5575558429110887,0.4201849846746118,0.31388542034506023,0.23242359579851873,0.17059556846434423,0.12411770375302109,0.08951136430915399,0.06398837454934501,0.045342184237638854],\"yaxis\":\"y2\"}],                        {\"height\":500,\"template\":{\"data\":{\"bar\":[{\"error_x\":{\"color\":\"#2a3f5f\"},\"error_y\":{\"color\":\"#2a3f5f\"},\"marker\":{\"line\":{\"color\":\"#E5ECF6\",\"width\":0.5},\"pattern\":{\"fillmode\":\"overlay\",\"size\":10,\"solidity\":0.2}},\"type\":\"bar\"}],\"barpolar\":[{\"marker\":{\"line\":{\"color\":\"#E5ECF6\",\"width\":0.5},\"pattern\":{\"fillmode\":\"overlay\",\"size\":10,\"solidity\":0.2}},\"type\":\"barpolar\"}],\"carpet\":[{\"aaxis\":{\"endlinecolor\":\"#2a3f5f\",\"gridcolor\":\"white\",\"linecolor\":\"white\",\"minorgridcolor\":\"white\",\"startlinecolor\":\"#2a3f5f\"},\"baxis\":{\"endlinecolor\":\"#2a3f5f\",\"gridcolor\":\"white\",\"linecolor\":\"white\",\"minorgridcolor\":\"white\",\"startlinecolor\":\"#2a3f5f\"},\"type\":\"carpet\"}],\"choropleth\":[{\"colorbar\":{\"outlinewidth\":0,\"ticks\":\"\"},\"type\":\"choropleth\"}],\"contour\":[{\"colorbar\":{\"outlinewidth\":0,\"ticks\":\"\"},\"colorscale\":[[0.0,\"#0d0887\"],[0.1111111111111111,\"#46039f\"],[0.2222222222222222,\"#7201a8\"],[0.3333333333333333,\"#9c179e\"],[0.4444444444444444,\"#bd3786\"],[0.5555555555555556,\"#d8576b\"],[0.6666666666666666,\"#ed7953\"],[0.7777777777777778,\"#fb9f3a\"],[0.8888888888888888,\"#fdca26\"],[1.0,\"#f0f921\"]],\"type\":\"contour\"}],\"contourcarpet\":[{\"colorbar\":{\"outlinewidth\":0,\"ticks\":\"\"},\"type\":\"contourcarpet\"}],\"heatmap\":[{\"colorbar\":{\"outlinewidth\":0,\"ticks\":\"\"},\"colorscale\":[[0.0,\"#0d0887\"],[0.1111111111111111,\"#46039f\"],[0.2222222222222222,\"#7201a8\"],[0.3333333333333333,\"#9c179e\"],[0.4444444444444444,\"#bd3786\"],[0.5555555555555556,\"#d8576b\"],[0.6666666666666666,\"#ed7953\"],[0.7777777777777778,\"#fb9f3a\"],[0.8888888888888888,\"#fdca26\"],[1.0,\"#f0f921\"]],\"type\":\"heatmap\"}],\"heatmapgl\":[{\"colorbar\":{\"outlinewidth\":0,\"ticks\":\"\"},\"colorscale\":[[0.0,\"#0d0887\"],[0.1111111111111111,\"#46039f\"],[0.2222222222222222,\"#7201a8\"],[0.3333333333333333,\"#9c179e\"],[0.4444444444444444,\"#bd3786\"],[0.5555555555555556,\"#d8576b\"],[0.6666666666666666,\"#ed7953\"],[0.7777777777777778,\"#fb9f3a\"],[0.8888888888888888,\"#fdca26\"],[1.0,\"#f0f921\"]],\"type\":\"heatmapgl\"}],\"histogram\":[{\"marker\":{\"pattern\":{\"fillmode\":\"overlay\",\"size\":10,\"solidity\":0.2}},\"type\":\"histogram\"}],\"histogram2d\":[{\"colorbar\":{\"outlinewidth\":0,\"ticks\":\"\"},\"colorscale\":[[0.0,\"#0d0887\"],[0.1111111111111111,\"#46039f\"],[0.2222222222222222,\"#7201a8\"],[0.3333333333333333,\"#9c179e\"],[0.4444444444444444,\"#bd3786\"],[0.5555555555555556,\"#d8576b\"],[0.6666666666666666,\"#ed7953\"],[0.7777777777777778,\"#fb9f3a\"],[0.8888888888888888,\"#fdca26\"],[1.0,\"#f0f921\"]],\"type\":\"histogram2d\"}],\"histogram2dcontour\":[{\"colorbar\":{\"outlinewidth\":0,\"ticks\":\"\"},\"colorscale\":[[0.0,\"#0d0887\"],[0.1111111111111111,\"#46039f\"],[0.2222222222222222,\"#7201a8\"],[0.3333333333333333,\"#9c179e\"],[0.4444444444444444,\"#bd3786\"],[0.5555555555555556,\"#d8576b\"],[0.6666666666666666,\"#ed7953\"],[0.7777777777777778,\"#fb9f3a\"],[0.8888888888888888,\"#fdca26\"],[1.0,\"#f0f921\"]],\"type\":\"histogram2dcontour\"}],\"mesh3d\":[{\"colorbar\":{\"outlinewidth\":0,\"ticks\":\"\"},\"type\":\"mesh3d\"}],\"parcoords\":[{\"line\":{\"colorbar\":{\"outlinewidth\":0,\"ticks\":\"\"}},\"type\":\"parcoords\"}],\"pie\":[{\"automargin\":true,\"type\":\"pie\"}],\"scatter\":[{\"marker\":{\"colorbar\":{\"outlinewidth\":0,\"ticks\":\"\"}},\"type\":\"scatter\"}],\"scatter3d\":[{\"line\":{\"colorbar\":{\"outlinewidth\":0,\"ticks\":\"\"}},\"marker\":{\"colorbar\":{\"outlinewidth\":0,\"ticks\":\"\"}},\"type\":\"scatter3d\"}],\"scattercarpet\":[{\"marker\":{\"colorbar\":{\"outlinewidth\":0,\"ticks\":\"\"}},\"type\":\"scattercarpet\"}],\"scattergeo\":[{\"marker\":{\"colorbar\":{\"outlinewidth\":0,\"ticks\":\"\"}},\"type\":\"scattergeo\"}],\"scattergl\":[{\"marker\":{\"colorbar\":{\"outlinewidth\":0,\"ticks\":\"\"}},\"type\":\"scattergl\"}],\"scattermapbox\":[{\"marker\":{\"colorbar\":{\"outlinewidth\":0,\"ticks\":\"\"}},\"type\":\"scattermapbox\"}],\"scatterpolar\":[{\"marker\":{\"colorbar\":{\"outlinewidth\":0,\"ticks\":\"\"}},\"type\":\"scatterpolar\"}],\"scatterpolargl\":[{\"marker\":{\"colorbar\":{\"outlinewidth\":0,\"ticks\":\"\"}},\"type\":\"scatterpolargl\"}],\"scatterternary\":[{\"marker\":{\"colorbar\":{\"outlinewidth\":0,\"ticks\":\"\"}},\"type\":\"scatterternary\"}],\"surface\":[{\"colorbar\":{\"outlinewidth\":0,\"ticks\":\"\"},\"colorscale\":[[0.0,\"#0d0887\"],[0.1111111111111111,\"#46039f\"],[0.2222222222222222,\"#7201a8\"],[0.3333333333333333,\"#9c179e\"],[0.4444444444444444,\"#bd3786\"],[0.5555555555555556,\"#d8576b\"],[0.6666666666666666,\"#ed7953\"],[0.7777777777777778,\"#fb9f3a\"],[0.8888888888888888,\"#fdca26\"],[1.0,\"#f0f921\"]],\"type\":\"surface\"}],\"table\":[{\"cells\":{\"fill\":{\"color\":\"#EBF0F8\"},\"line\":{\"color\":\"white\"}},\"header\":{\"fill\":{\"color\":\"#C8D4E3\"},\"line\":{\"color\":\"white\"}},\"type\":\"table\"}]},\"layout\":{\"annotationdefaults\":{\"arrowcolor\":\"#2a3f5f\",\"arrowhead\":0,\"arrowwidth\":1},\"autotypenumbers\":\"strict\",\"coloraxis\":{\"colorbar\":{\"outlinewidth\":0,\"ticks\":\"\"}},\"colorscale\":{\"diverging\":[[0,\"#8e0152\"],[0.1,\"#c51b7d\"],[0.2,\"#de77ae\"],[0.3,\"#f1b6da\"],[0.4,\"#fde0ef\"],[0.5,\"#f7f7f7\"],[0.6,\"#e6f5d0\"],[0.7,\"#b8e186\"],[0.8,\"#7fbc41\"],[0.9,\"#4d9221\"],[1,\"#276419\"]],\"sequential\":[[0.0,\"#0d0887\"],[0.1111111111111111,\"#46039f\"],[0.2222222222222222,\"#7201a8\"],[0.3333333333333333,\"#9c179e\"],[0.4444444444444444,\"#bd3786\"],[0.5555555555555556,\"#d8576b\"],[0.6666666666666666,\"#ed7953\"],[0.7777777777777778,\"#fb9f3a\"],[0.8888888888888888,\"#fdca26\"],[1.0,\"#f0f921\"]],\"sequentialminus\":[[0.0,\"#0d0887\"],[0.1111111111111111,\"#46039f\"],[0.2222222222222222,\"#7201a8\"],[0.3333333333333333,\"#9c179e\"],[0.4444444444444444,\"#bd3786\"],[0.5555555555555556,\"#d8576b\"],[0.6666666666666666,\"#ed7953\"],[0.7777777777777778,\"#fb9f3a\"],[0.8888888888888888,\"#fdca26\"],[1.0,\"#f0f921\"]]},\"colorway\":[\"#636efa\",\"#EF553B\",\"#00cc96\",\"#ab63fa\",\"#FFA15A\",\"#19d3f3\",\"#FF6692\",\"#B6E880\",\"#FF97FF\",\"#FECB52\"],\"font\":{\"color\":\"#2a3f5f\"},\"geo\":{\"bgcolor\":\"white\",\"lakecolor\":\"white\",\"landcolor\":\"#E5ECF6\",\"showlakes\":true,\"showland\":true,\"subunitcolor\":\"white\"},\"hoverlabel\":{\"align\":\"left\"},\"hovermode\":\"closest\",\"mapbox\":{\"style\":\"light\"},\"paper_bgcolor\":\"white\",\"plot_bgcolor\":\"#E5ECF6\",\"polar\":{\"angularaxis\":{\"gridcolor\":\"white\",\"linecolor\":\"white\",\"ticks\":\"\"},\"bgcolor\":\"#E5ECF6\",\"radialaxis\":{\"gridcolor\":\"white\",\"linecolor\":\"white\",\"ticks\":\"\"}},\"scene\":{\"xaxis\":{\"backgroundcolor\":\"#E5ECF6\",\"gridcolor\":\"white\",\"gridwidth\":2,\"linecolor\":\"white\",\"showbackground\":true,\"ticks\":\"\",\"zerolinecolor\":\"white\"},\"yaxis\":{\"backgroundcolor\":\"#E5ECF6\",\"gridcolor\":\"white\",\"gridwidth\":2,\"linecolor\":\"white\",\"showbackground\":true,\"ticks\":\"\",\"zerolinecolor\":\"white\"},\"zaxis\":{\"backgroundcolor\":\"#E5ECF6\",\"gridcolor\":\"white\",\"gridwidth\":2,\"linecolor\":\"white\",\"showbackground\":true,\"ticks\":\"\",\"zerolinecolor\":\"white\"}},\"shapedefaults\":{\"line\":{\"color\":\"#2a3f5f\"}},\"ternary\":{\"aaxis\":{\"gridcolor\":\"white\",\"linecolor\":\"white\",\"ticks\":\"\"},\"baxis\":{\"gridcolor\":\"white\",\"linecolor\":\"white\",\"ticks\":\"\"},\"bgcolor\":\"#E5ECF6\",\"caxis\":{\"gridcolor\":\"white\",\"linecolor\":\"white\",\"ticks\":\"\"}},\"title\":{\"x\":0.05},\"xaxis\":{\"automargin\":true,\"gridcolor\":\"white\",\"linecolor\":\"white\",\"ticks\":\"\",\"title\":{\"standoff\":15},\"zerolinecolor\":\"white\",\"zerolinewidth\":2},\"yaxis\":{\"automargin\":true,\"gridcolor\":\"white\",\"linecolor\":\"white\",\"ticks\":\"\",\"title\":{\"standoff\":15},\"zerolinecolor\":\"white\",\"zerolinewidth\":2}}},\"title\":{\"text\":\"Good vs. Not Good Movies\",\"x\":0.5,\"xanchor\":\"right\",\"y\":0.9,\"yanchor\":\"top\"},\"width\":800,\"xaxis\":{\"anchor\":\"y\",\"domain\":[0.0,0.94],\"title\":{\"text\":\"Profitability \"}},\"yaxis\":{\"anchor\":\"x\",\"domain\":[0.0,1.0],\"title\":{\"text\":\"<b>Good</b> movies\"}},\"yaxis2\":{\"anchor\":\"x\",\"overlaying\":\"y\",\"side\":\"right\",\"title\":{\"text\":\"<b>Not Good</b> movies\"}}},                        {\"responsive\": true}                    ).then(function(){\n",
       "                            \n",
       "var gd = document.getElementById('9ce9a63a-2314-4f80-ad04-6fb3af5b898d');\n",
       "var x = new MutationObserver(function (mutations, observer) {{\n",
       "        var display = window.getComputedStyle(gd).display;\n",
       "        if (!display || display === 'none') {{\n",
       "            console.log([gd, 'removed!']);\n",
       "            Plotly.purge(gd);\n",
       "            observer.disconnect();\n",
       "        }}\n",
       "}});\n",
       "\n",
       "// Listen for the removal of the full notebook cells\n",
       "var notebookContainer = gd.closest('#notebook-container');\n",
       "if (notebookContainer) {{\n",
       "    x.observe(notebookContainer, {childList: true});\n",
       "}}\n",
       "\n",
       "// Listen for the clearing of the current output cell\n",
       "var outputEl = gd.closest('.output');\n",
       "if (outputEl) {{\n",
       "    x.observe(outputEl, {childList: true});\n",
       "}}\n",
       "\n",
       "                        })                };                });            </script>        </div>"
      ]
     },
     "metadata": {},
     "output_type": "display_data"
    },
    {
     "data": {
      "text/plain": [
       "<Figure size 432x288 with 0 Axes>"
      ]
     },
     "metadata": {},
     "output_type": "display_data"
    }
   ],
   "source": [
    "import plotly.graph_objects as go\n",
    "from plotly.subplots import make_subplots\n",
    "\n",
    "good_dist = stats.norm(data1.mean(), data1.std()/np.sqrt(len(data1)))\n",
    "bad_dist = stats.norm(data2.mean(), data2.std()/np.sqrt(len(data2)))\n",
    "support = np.linspace(bad_dist.ppf(0.0001), good_dist.ppf(0.9999), 100)\n",
    "good_pdf = good_dist.pdf(support)\n",
    "bad_pdf = bad_dist.pdf(support)\n",
    "\n",
    "# Create figure with secondary y-axis\n",
    "fig = make_subplots(specs=[[{\"secondary_y\": True}]])\n",
    "\n",
    "# Add traces\n",
    "fig.add_trace(\n",
    "    go.Scatter(x=support, y=bad_pdf, name=\"Rating Score < 7.5\"),\n",
    "    secondary_y=False,\n",
    ")\n",
    "\n",
    "fig.add_trace(\n",
    "    go.Scatter(x=support, y=good_pdf, name=\"Rating Score > 7.5\"),\n",
    "    secondary_y=True,\n",
    ")\n",
    "\n",
    "\n",
    "# Add figure title\n",
    "fig.update_layout(\n",
    "    title={\n",
    "        'text' : 'Good vs. Not Good Movies',\n",
    "        'y':0.9,\n",
    "        'x':0.5,\n",
    "        'xanchor': 'right',\n",
    "        'yanchor': 'top'},\n",
    "    width=800, \n",
    "    height=500)\n",
    "    \n",
    "support = np.linspace(bad_dist.ppf(0.0001), good_dist.ppf(0.9999), 100)\n",
    "# Set x-axis title\n",
    "fig.update_xaxes(title_text=\"Profitability \")\n",
    "\n",
    "# Set y-axes titles\n",
    "fig.update_yaxes(title_text=\"<b>Good</b> movies\", secondary_y=False)\n",
    "fig.update_yaxes(title_text=\"<b>Not Good</b> movies\", secondary_y=True)\n",
    "plt.savefig('images/conclusion.png', bbox_inches='tight');\n",
    "fig.show()"
   ]
  },
  {
   "cell_type": "code",
   "execution_count": 35,
   "metadata": {},
   "outputs": [
    {
     "data": {
      "image/png": "[encoded data removed]",
      "text/plain": [
       "<Figure size 720x576 with 1 Axes>"
      ]
     },
     "metadata": {
      "needs_background": "light"
     },
     "output_type": "display_data"
    }
   ],
   "source": [
    "fig,ax = plt.subplots(figsize=(10,8))\n",
    "\n",
    "good_dist = stats.norm(data1.mean(), data1.std()/np.sqrt(len(data1)))\n",
    "bad_dist = stats.norm(data2.mean(), data2.std()/np.sqrt(len(data2)))\n",
    "\n",
    "support = np.linspace(bad_dist.ppf(0.0001), good_dist.ppf(0.9999), 100)\n",
    "good_pdf = good_dist.pdf(support)\n",
    "bad_pdf = bad_dist.pdf(support)\n",
    "\n",
    "ax.plot(support, good_pdf, color='green', label='\"Good\" movies')\n",
    "ax.plot(support, bad_pdf, color='red', label='not \"Good\" Movies')\n",
    "ax.legend()\n",
    "ax.set_ylabel(\"pdf\")\n",
    "ax.set_xlabel('Financial Success')\n",
    "ax.set_title(\"Distribution of Sample Means for Profitablility\")\n",
    "ax.figure.savefig('images/critics_success.png', bbox_inches='tight');"
   ]
  },
  {
   "cell_type": "code",
   "execution_count": null,
   "metadata": {},
   "outputs": [],
   "source": []
  },
  {
   "cell_type": "code",
   "execution_count": 66,
   "metadata": {},
   "outputs": [],
   "source": [
    "def compare_AB_conversion_rate(site_A_data, site_B_data, n=None):\n",
    "    \"\"\"compare the conversion rate of 2 different solutions A & B\n",
    "    Args\n",
    "    ----\n",
    "        site_A_data (1-D np.array of shape (N,))\n",
    "        site_B_data (1-D np.array of shape (N,))\n",
    "        n (int): use a sub list of samples[:n]\n",
    "    Return\n",
    "    ------\n",
    "        a plot comparing the conversion rate of site A and that of site B.\n",
    "    \"\"\"\n",
    "    ax = plt.subplot()\n",
    "    if n is None:\n",
    "        n = min(len(site_A_data), len(site_A_data))\n",
    "    site_A_samples = site_A_data[:n]\n",
    "    site_B_samples = site_B_data[:n]\n",
    "    plot_beta_from_data(site_A_samples, ax, label=\"Site A\")\n",
    "    plot_beta_from_data(site_B_samples, ax, label=\"Site B\")\n",
    "    plt.title(f'Comparing {n} Movies')\n",
    "    plt.show()\n",
    "    "
   ]
  },
  {
   "cell_type": "code",
   "execution_count": 67,
   "metadata": {},
   "outputs": [
    {
     "data": {
      "image/png": "[encoded data removed]",
      "text/plain": [
       "<Figure size 432x288 with 1 Axes>"
      ]
     },
     "metadata": {
      "needs_background": "light"
     },
     "output_type": "display_data"
    }
   ],
   "source": [
    "compare_AB_conversion_rate(data1,data2, n=100000)\n",
    "#compare_AB_conversion_rate(data3,data4, n=100000)"
   ]
  },
  {
   "cell_type": "code",
   "execution_count": 39,
   "metadata": {},
   "outputs": [
    {
     "data": {
      "image/png": "[encoded data removed]",
      "text/plain": [
       "<Figure size 720x288 with 1 Axes>"
      ]
     },
     "metadata": {
      "needs_background": "light"
     },
     "output_type": "display_data"
    }
   ],
   "source": [
    "fig, ax = plt.subplots(1, 1, figsize=(10, 4))\n",
    "\n",
    "plot_beta_from_data(data1, ax=ax)\n",
    "plot_beta_from_data(data2, ax=ax)\n",
    "ax.figure.savefig('images/critics_success2.png', bbox_inches='tight')\n"
   ]
  },
  {
   "cell_type": "code",
   "execution_count": 19,
   "metadata": {},
   "outputs": [
    {
     "data": {
      "image/png": "[encoded data removed]",
      "text/plain": [
       "<Figure size 720x288 with 1 Axes>"
      ]
     },
     "metadata": {
      "needs_background": "light"
     },
     "output_type": "display_data"
    }
   ],
   "source": [
    "# user reviews\n",
    "fig, ax = plt.subplots(1, 1, figsize=(10, 4))\n",
    "\n",
    "plot_beta_from_data(data3, ax=ax)\n",
    "plot_beta_from_data(data4, ax=ax)"
   ]
  },
  {
   "cell_type": "code",
   "execution_count": 20,
   "metadata": {},
   "outputs": [
    {
     "data": {
      "text/plain": [
       "(295, 7)"
      ]
     },
     "execution_count": 20,
     "metadata": {},
     "output_type": "execute_result"
    }
   ],
   "source": []
  },
  {
   "cell_type": "code",
   "execution_count": 60,
   "metadata": {},
   "outputs": [],
   "source": [
    "def runSimulationA(d1,d2,flag):\n",
    "    num_simulations = 1000\n",
    "    \n",
    "    #Let's just grab our Alpha and betas from site_A\n",
    "    alpha, beta = estimate_beta_params(d1)[:2]\n",
    "    print(f'Movies with 7.5 score and/or have an oscar nod, alpha and beta {alpha, beta}')\n",
    "    #Set up first distribution\n",
    "    dist_A = stats.beta(alpha, beta)\n",
    "    \n",
    "    \n",
    "    #Same steps for beta dist\n",
    "    alpha, beta = estimate_beta_params(d2)[:2]\n",
    "    print(f'Movies with below 7.5 score and no oscar nod, alpha and beta {alpha, beta}')\n",
    "    dist_B = stats.beta(alpha, beta)\n",
    "    \n",
    "    #randomly sample 100_000 data points from each distribution\n",
    "    simulated_A = dist_A.rvs(num_simulations)\n",
    "    \n",
    "    simulated_B = dist_B.rvs(num_simulations)\n",
    "    \n",
    "    if flag==True:\n",
    "        print(f'Given the data, a \"good\" movie is {(simulated_A > simulated_B).mean()*100}% likely to have a high probability of it being financially successful. ')\n",
    "    else:\n",
    "        print(f'Given the data, a successful movie is {(simulated_A > simulated_B).mean()*100}% likely to have a high probability of it being good. ')     "
   ]
  },
  {
   "cell_type": "markdown",
   "metadata": {},
   "source": [
    "## Running the Simulations: Are 'Good' Movies Profitable?"
   ]
  },
  {
   "cell_type": "code",
   "execution_count": 61,
   "metadata": {},
   "outputs": [
    {
     "name": "stdout",
     "output_type": "stream",
     "text": [
      "Movies with 7.5 score and/or have an oscar nod, alpha and beta (296, 6)\n",
      "Movies with below 7.5 score and no oscar nod, alpha and beta (293, 9)\n",
      "Given the data, a \"good\" movie is 78.4% likely to have a high probability of it being financially successful. \n"
     ]
    }
   ],
   "source": [
    "## Run simulation with Critics_Choice Data\n",
    "runSimulationA(data1,data2,True)   "
   ]
  },
  {
   "cell_type": "code",
   "execution_count": 62,
   "metadata": {},
   "outputs": [
    {
     "name": "stdout",
     "output_type": "stream",
     "text": [
      "Movies with 7.5 score and/or have an oscar nod, alpha and beta (80, 222)\n",
      "Movies with below 7.5 score and no oscar nod, alpha and beta (16, 76)\n",
      "Given the data, a \"good\" movie is 98.0% likely to have a high probability of it being financially successful. \n"
     ]
    }
   ],
   "source": [
    "## Run simulation with Users_Pick Data\n",
    "runSimulationA(data5,data6,True)   "
   ]
  },
  {
   "cell_type": "markdown",
   "metadata": {},
   "source": [
    "## Testing the Inverse: Are Profitable Movies 'Good' ?"
   ]
  },
  {
   "cell_type": "code",
   "execution_count": 64,
   "metadata": {},
   "outputs": [
    {
     "name": "stdout",
     "output_type": "stream",
     "text": [
      "Movies with 7.5 score and/or have an oscar nod, alpha and beta (80, 222)\n",
      "Movies with below 7.5 score and no oscar nod, alpha and beta (16, 76)\n",
      "Given the data, a successful movie is 97.0% likely to have a high probability of it being good. \n"
     ]
    }
   ],
   "source": [
    "## Run simulation with Critics_Choice Data\n",
    "runSimulationA(data5,data6,False)   "
   ]
  },
  {
   "cell_type": "code",
   "execution_count": 65,
   "metadata": {},
   "outputs": [
    {
     "name": "stdout",
     "output_type": "stream",
     "text": [
      "Movies with 7.5 score and/or have an oscar nod, alpha and beta (81, 221)\n",
      "Movies with below 7.5 score and no oscar nod, alpha and beta (9, 83)\n",
      "Given the data, a successful movie is 100.0% likely to have a high probability of it being good. \n"
     ]
    }
   ],
   "source": [
    "## Run simulation with Users_Pick Data\n",
    "runSimulationA(data7,data8,False)   "
   ]
  },
  {
   "cell_type": "code",
   "execution_count": null,
   "metadata": {},
   "outputs": [],
   "source": []
  }
 ],
 "metadata": {
  "kernelspec": {
   "display_name": "Python 3",
   "language": "python",
   "name": "python3"
  },
  "language_info": {
   "codemirror_mode": {
    "name": "ipython",
    "version": 3
   },
   "file_extension": ".py",
   "mimetype": "text/x-python",
   "name": "python",
   "nbconvert_exporter": "python",
   "pygments_lexer": "ipython3",
   "version": "3.8.5"
  }
 },
 "nbformat": 4,
 "nbformat_minor": 4
}
